{
 "cells": [
  {
   "cell_type": "code",
   "execution_count": 5,
   "id": "bd1a8e0d",
   "metadata": {},
   "outputs": [
    {
     "name": "stdout",
     "output_type": "stream",
     "text": [
      "✅ Uploaded 11055 records to MongoDB collection 'phishing_data'\n"
     ]
    }
   ],
   "source": [
    "import pandas as pd\n",
    "import pymongo\n",
    "import os\n",
    "\n",
    "# Load environment variable\n",
    "mongo_url = os.getenv(\"MONGO_DB_URL\") or \"mongodb://localhost:27017\"\n",
    "\n",
    "# Connect to MongoDB\n",
    "client = pymongo.MongoClient(mongo_url)\n",
    "db = client[\"phising\"]  # your target database\n",
    "collection = db[\"phising_08012020_120000\"]  # your target collection\n",
    "\n",
    "# Load CSV file\n",
    "csv_path = \"upload_data_to_db/phising_08012020_120000.csv\"  # adjust if needed\n",
    "df = pd.read_csv(r\"C:\\Users\\udit2\\Desktop\\Phishing\\phishing-classifier\\upload_data_to_db\\phising_08012020_120000.csv\")\n",
    "\n",
    "# Replace 'na' with None (Mongo prefers null values)\n",
    "df = df.replace({\"na\": None})\n",
    "\n",
    "# Upload to MongoDB\n",
    "collection.insert_many(df.to_dict(orient=\"records\"))\n",
    "\n",
    "print(f\"✅ Uploaded {len(df)} records to MongoDB collection 'phishing_data'\")\n"
   ]
  }
 ],
 "metadata": {
  "kernelspec": {
   "display_name": "Python 3",
   "language": "python",
   "name": "python3"
  },
  "language_info": {
   "codemirror_mode": {
    "name": "ipython",
    "version": 3
   },
   "file_extension": ".py",
   "mimetype": "text/x-python",
   "name": "python",
   "nbconvert_exporter": "python",
   "pygments_lexer": "ipython3",
   "version": "3.8.20"
  }
 },
 "nbformat": 4,
 "nbformat_minor": 5
}
